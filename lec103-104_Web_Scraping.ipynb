{
 "cells": [
  {
   "cell_type": "code",
   "execution_count": 1,
   "metadata": {},
   "outputs": [],
   "source": [
    "from bs4 import BeautifulSoup"
   ]
  },
  {
   "cell_type": "code",
   "execution_count": 2,
   "metadata": {},
   "outputs": [],
   "source": [
    "import requests"
   ]
  },
  {
   "cell_type": "code",
   "execution_count": 3,
   "metadata": {},
   "outputs": [],
   "source": [
    "import pandas as pd"
   ]
  },
  {
   "cell_type": "code",
   "execution_count": 5,
   "metadata": {},
   "outputs": [],
   "source": [
    "from pandas import Series, DataFrame"
   ]
  },
  {
   "cell_type": "code",
   "execution_count": 6,
   "metadata": {},
   "outputs": [],
   "source": [
    "url = 'http://www.ucop.edu/operating-budget/budgets-and-reports/legislative-reports/2013-14-legislative-session.html'"
   ]
  },
  {
   "cell_type": "code",
   "execution_count": 7,
   "metadata": {},
   "outputs": [],
   "source": [
    "result = requests.get(url)"
   ]
  },
  {
   "cell_type": "code",
   "execution_count": 8,
   "metadata": {},
   "outputs": [],
   "source": [
    "c = result.content"
   ]
  },
  {
   "cell_type": "code",
   "execution_count": 9,
   "metadata": {},
   "outputs": [
    {
     "name": "stderr",
     "output_type": "stream",
     "text": [
      "/usr/local/lib/python3.6/site-packages/bs4/__init__.py:181: UserWarning: No parser was explicitly specified, so I'm using the best available HTML parser for this system (\"lxml\"). This usually isn't a problem, but if you run this code on another system, or in a different virtual environment, it may use a different parser and behave differently.\n",
      "\n",
      "The code that caused this warning is on line 193 of the file /usr/local/Cellar/python3/3.6.3/Frameworks/Python.framework/Versions/3.6/lib/python3.6/runpy.py. To get rid of this warning, change code that looks like this:\n",
      "\n",
      " BeautifulSoup(YOUR_MARKUP})\n",
      "\n",
      "to this:\n",
      "\n",
      " BeautifulSoup(YOUR_MARKUP, \"lxml\")\n",
      "\n",
      "  markup_type=markup_type))\n"
     ]
    }
   ],
   "source": [
    "soup = BeautifulSoup(c)"
   ]
  },
  {
   "cell_type": "code",
   "execution_count": 10,
   "metadata": {},
   "outputs": [],
   "source": [
    "summary = soup.find('div', {'class': 'list-land', 'id': 'content'})"
   ]
  },
  {
   "cell_type": "code",
   "execution_count": 11,
   "metadata": {},
   "outputs": [],
   "source": [
    "tables  = summary.find_all('table')"
   ]
  },
  {
   "cell_type": "code",
   "execution_count": 12,
   "metadata": {},
   "outputs": [
    {
     "data": {
      "text/plain": [
       "1"
      ]
     },
     "execution_count": 12,
     "metadata": {},
     "output_type": "execute_result"
    }
   ],
   "source": [
    "len(tables)"
   ]
  },
  {
   "cell_type": "code",
   "execution_count": 13,
   "metadata": {
    "collapsed": true
   },
   "outputs": [
    {
     "data": {
      "text/plain": [
       "[<table cellpadding=\"5\" cellspacing=\"0\" class=\"table-striped\" id=\"report\" summary=\"2009-10 Legislative Reports in a table with one level of column and row headers\" width=\"100%\">\n",
       " <tbody>\n",
       " <tr>\n",
       " <th scope=\"col\"></th><th scope=\"col\">Date</th><th scope=\"col\">Report title</th>\n",
       " </tr>\n",
       " <tr>\n",
       " <td scope=\"row\">1</td>\n",
       " <td scope=\"row\">08/01/13</td>\n",
       " <td scope=\"row\"><a href=\"../../_files/legreports/1314/2013-14cobcp.pdf\">2013-14 (EDU 92495) Proposed Capital Outlay Projects (2013-14 only) (pdf)</a></td>\n",
       " </tr>\n",
       " <tr>\n",
       " <td scope=\"row\">2</td>\n",
       " <td scope=\"row\">09/01/13</td>\n",
       " <td scope=\"row\"><a href=\"../../_files/legreports/1314/2014-15cobcp.pdf\">2014-15  (EDU 92495) Proposed Capital Outlay Projects (pdf)</a></td>\n",
       " </tr>\n",
       " <tr>\n",
       " <td scope=\"row\">3</td>\n",
       " <td scope=\"row\">11/01/13</td>\n",
       " <td scope=\"row\"><a href=\"../../_files/legreports/1314/utilizationofclassroomsandresearchspace-11-1-13.pdf\">Utilization of Classroom and Teaching Laboratories (pdf)</a> (<em>Final Report; biennial</em>)</td>\n",
       " </tr>\n",
       " <tr>\n",
       " <td scope=\"row\">4</td>\n",
       " <td scope=\"row\">11/01/13</td>\n",
       " <td scope=\"row\"><a href=\"../../_files/legreports/1314/instructionandresearchspacesummary-11-1-2013.pdf\">Instruction and Research Space Summary &amp; Analysis (pdf)</a></td>\n",
       " </tr>\n",
       " <tr>\n",
       " <td scope=\"row\">5</td>\n",
       " <td scope=\"row\">11/15/13</td>\n",
       " <td scope=\"row\"><a href=\"../../_files/legreports/1314/seplegreport-1-21-14.pdf\">Statewide Energy Partnership Program (pdf)</a></td>\n",
       " </tr>\n",
       " <tr>\n",
       " <td scope=\"row\">6</td>\n",
       " <td scope=\"row\">11/30/13</td>\n",
       " <td scope=\"row\"><a href=\"http://ucop.edu/capital-planning/_files/capital/201323/_UC-Capital-Financial-Plan-2013.pdf\">2013-23 Capital Financial Plan (pdf)</a></td>\n",
       " </tr>\n",
       " <tr>\n",
       " <td scope=\"row\">7</td>\n",
       " <td scope=\"row\">11/30/13</td>\n",
       " <td scope=\"row\"><a href=\"../../_files/legreports/1314/projectsavingsprogramlegrpt-11-2013.pdf\">Projects Savings Funded from Capital Outlay Bond Funds (pdf)</a></td>\n",
       " </tr>\n",
       " <tr>\n",
       " <td scope=\"row\">8</td>\n",
       " <td scope=\"row\">12/01/13</td>\n",
       " <td scope=\"row\"><a href=\"../../_files/legreports/1314/streamlinedcapitaloutlayprojectslegrpt-12-13.pdf\">Streamlined Capital Projects Funded from Capital (pdf)</a></td>\n",
       " </tr>\n",
       " <tr>\n",
       " <td scope=\"row\">9</td>\n",
       " <td scope=\"row\">01/01/14</td>\n",
       " <td scope=\"row\"><a href=\"../../_files/legreports/1314/annualgeneralobligationbondsaccountabilitylegrep-11-2013.pdf\">Annual General Obligation Bonds Accountability (pdf)</a></td>\n",
       " </tr>\n",
       " <tr>\n",
       " <td scope=\"row\">10</td>\n",
       " <td scope=\"row\">01/01/14</td>\n",
       " <td scope=\"row\"><a href=\"../../_files/legreports/1314/2012-13sbulegrpt-3-31-14.pdf\">Small Business Utilization (pdf)</a></td>\n",
       " </tr>\n",
       " <tr>\n",
       " <td scope=\"row\">11</td>\n",
       " <td scope=\"row\">01/01/14</td>\n",
       " <td scope=\"row\"><a href=\"../../_files/legreports/1314/instfinaid-prelimlegreport-2-10-14.pdf\">Institutional Financial Aid Programs - Preliminary report (pdf)</a></td>\n",
       " </tr>\n",
       " <tr>\n",
       " <td scope=\"row\">12</td>\n",
       " <td scope=\"row\">01/10/14</td>\n",
       " <td scope=\"row\"><a href=\"../../_files/legreports/1314/summerenrollmentlegreport-2-18-2014.pdf\">Summer Enrollment (pdf)</a></td>\n",
       " </tr>\n",
       " <tr>\n",
       " <td scope=\"row\">13</td>\n",
       " <td scope=\"row\">01/15/14</td>\n",
       " <td scope=\"row\"><a href=\"../../_files/legreports/1314/contractingoutforservicesatnewlydevelopedfacilitieslegrep-1-8-2014.pdf\">Contracting Out for Services at Newly Developed Facilities (pdf)</a></td>\n",
       " </tr>\n",
       " <tr>\n",
       " <td scope=\"row\">14</td>\n",
       " <td scope=\"row\">03/01/14</td>\n",
       " <td scope=\"row\"><a href=\"../../_files/legreports/1314/performanceoutcomemeasureslegreport-March-2014.pdf\">Performance Measures (pdf)</a></td>\n",
       " </tr>\n",
       " <tr>\n",
       " <td scope=\"row\">15</td>\n",
       " <td scope=\"row\">03/01/14</td>\n",
       " <td scope=\"row\"><a href=\"../../_files/legreports/1314/ELWRlegrpt-3-4-14.pdf\">Entry Level Writing Requirement (pdf)</a></td>\n",
       " </tr>\n",
       " <tr>\n",
       " <td scope=\"row\">16</td>\n",
       " <td scope=\"row\">03/31/14</td>\n",
       " <td scope=\"row\"><a href=\"../../_files/legreports/1314/2012-13annualstudentsupportlegreport-4-1-14.pdf\">Annual Report on Student Financial Support (pdf)</a><a href=\"../../_files/legreports/1213/2011-12uc-mexicofacilityresearchandacadPrgms-casa.pdf\"></a></td>\n",
       " </tr>\n",
       " <tr>\n",
       " <td scope=\"row\">17</td>\n",
       " <td scope=\"row\">04/01/14</td>\n",
       " <td scope=\"row\"><a href=\"../../_files/legreports/1314/uniquestatewidepupilidentifierlegrpt-03-10-14.pdf\">Unique Statewide Pupil Identifier (pdf)</a></td>\n",
       " </tr>\n",
       " <tr>\n",
       " <td scope=\"row\">18</td>\n",
       " <td scope=\"row\">04/01/14</td>\n",
       " <td scope=\"row\"><a href=\"../../_files/legreports/1314/progressreportucr-somlegrpt-4-2-14.pdf\">Riverside School of Medicine (pdf)</a></td>\n",
       " </tr>\n",
       " <tr>\n",
       " <td scope=\"row\">19</td>\n",
       " <td scope=\"row\">04/01/14</td>\n",
       " <td scope=\"row\">SAPEP Funds and Outcomes - N/A<br/></td>\n",
       " </tr>\n",
       " <tr>\n",
       " <td scope=\"row\">20</td>\n",
       " <td scope=\"row\">05/15/14</td>\n",
       " <td scope=\"row\"><a href=\"../../_files/legreports/1314/2012-13ReceiptandUseofLotteryFundsLegReport-5-15-14.pdf\">Receipt and Use of Lottery Funds (pdf)</a></td>\n",
       " </tr>\n",
       " <tr>\n",
       " <td scope=\"row\">21</td>\n",
       " <td scope=\"row\">07/01/14</td>\n",
       " <td scope=\"row\"><a href=\"../../_files/legreports/1314/5thAmendedProposedSEPListtoState-10-31-13.pdf\">Cogeneration and Energy Consv Major Capital Projects (pdf)</a></td>\n",
       " </tr>\n",
       " <tr>\n",
       " <td scope=\"row\">\n",
       " </td>\n",
       " <td scope=\"row\">\n",
       " </td>\n",
       " <td scope=\"row\">\n",
       " </td>\n",
       " </tr>\n",
       " <tr>\n",
       " <td scope=\"row\"><strong> </strong></td>\n",
       " <td scope=\"row\"><strong>Future Reports</strong></td>\n",
       " <td scope=\"row\">\n",
       " </td>\n",
       " </tr>\n",
       " <tr>\n",
       " <td scope=\"row\">24</td>\n",
       " <td scope=\"row\">12-<a></a>31-15</td>\n",
       " <td scope=\"row\">Breast Cancer Research Fund</td>\n",
       " </tr>\n",
       " <tr>\n",
       " <td scope=\"row\">25</td>\n",
       " <td scope=\"row\">12-31-15</td>\n",
       " <td scope=\"row\">Cigarette and Tobacco Products Surtax Research Program</td>\n",
       " </tr>\n",
       " <tr>\n",
       " <td scope=\"row\">26</td>\n",
       " <td scope=\"row\">01-01-16</td>\n",
       " <td scope=\"row\">Best Value Program</td>\n",
       " </tr>\n",
       " <tr>\n",
       " <td scope=\"row\">27</td>\n",
       " <td scope=\"row\">01-01-16</td>\n",
       " <td scope=\"row\">California Subject Matter Programs</td>\n",
       " </tr>\n",
       " <tr>\n",
       " <td scope=\"row\">28</td>\n",
       " <td scope=\"row\">04-01-16</td>\n",
       " <td scope=\"row\">COSMOS Program Outcomes</td>\n",
       " </tr>\n",
       " </tbody>\n",
       " </table>]"
      ]
     },
     "execution_count": 13,
     "metadata": {},
     "output_type": "execute_result"
    }
   ],
   "source": [
    "tables"
   ]
  },
  {
   "cell_type": "code",
   "execution_count": null,
   "metadata": {},
   "outputs": [],
   "source": []
  }
 ],
 "metadata": {
  "kernelspec": {
   "display_name": "Python 3",
   "language": "python",
   "name": "python3"
  },
  "language_info": {
   "codemirror_mode": {
    "name": "ipython",
    "version": 3
   },
   "file_extension": ".py",
   "mimetype": "text/x-python",
   "name": "python",
   "nbconvert_exporter": "python",
   "pygments_lexer": "ipython3",
   "version": "3.6.3"
  }
 },
 "nbformat": 4,
 "nbformat_minor": 2
}
